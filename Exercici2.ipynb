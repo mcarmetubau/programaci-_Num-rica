{
 "cells": [
  {
   "cell_type": "code",
   "execution_count": 22,
   "metadata": {},
   "outputs": [
    {
     "name": "stdout",
     "output_type": "stream",
     "text": [
      "Entra el numero del quadrat7\n"
     ]
    },
    {
     "data": {
      "text/plain": [
       "array([[81, 21, 49, 32, 74, 82, 63],\n",
       "       [ 2, 55, 99, 24, 54,  8, 74],\n",
       "       [25, 86,  9,  3, 87, 25, 65],\n",
       "       [31,  4, 41, 17, 90, 42, 49],\n",
       "       [77, 76, 81, 71, 99, 89, 39],\n",
       "       [20, 93, 13, 19, 43, 85, 49],\n",
       "       [21, 45, 44, 83, 64, 44, 39]])"
      ]
     },
     "execution_count": 22,
     "metadata": {},
     "output_type": "execute_result"
    }
   ],
   "source": [
    "from random import randint\n",
    "import numpy as np\n",
    "\n",
    "def creaquadrat(quadrat):\n",
    "    lst = []\n",
    " \n",
    "    for i in range(0, quadrat*quadrat):\n",
    "        ele = randint(0, 100)\n",
    "        lst.append(ele) \n",
    "    arr = np.array(lst)\n",
    "    \n",
    "    return (arr.reshape(quadrat,quadrat))\n",
    "\n",
    "# creem numero de dimensions\n",
    "\n",
    "creaquadrat(int(input(\"Entra el numero del quadrat\")))"
   ]
  },
  {
   "cell_type": "code",
   "execution_count": null,
   "metadata": {},
   "outputs": [],
   "source": []
  },
  {
   "cell_type": "code",
   "execution_count": null,
   "metadata": {},
   "outputs": [],
   "source": [
    "\n"
   ]
  }
 ],
 "metadata": {
  "kernelspec": {
   "display_name": "Python 3",
   "language": "python",
   "name": "python3"
  },
  "language_info": {
   "codemirror_mode": {
    "name": "ipython",
    "version": 3
   },
   "file_extension": ".py",
   "mimetype": "text/x-python",
   "name": "python",
   "nbconvert_exporter": "python",
   "pygments_lexer": "ipython3",
   "version": "3.8.5"
  }
 },
 "nbformat": 4,
 "nbformat_minor": 4
}
