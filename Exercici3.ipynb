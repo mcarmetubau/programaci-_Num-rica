{
 "cells": [
  {
   "cell_type": "code",
   "execution_count": 13,
   "metadata": {},
   "outputs": [
    {
     "name": "stdout",
     "output_type": "stream",
     "text": [
      "La suma de les columnes és de:  [ 7  9 11 13 16]\n",
      "La suma de les files és de:  [15 41]\n"
     ]
    }
   ],
   "source": [
    "import numpy as np\n",
    "\n",
    "def totalsumes(def_arr):\n",
    "    print(\"La suma de les columnes és de: \", def_arr.sum(axis=0))\n",
    "    print(\"La suma de les files és de: \", def_arr.sum(axis=1))\n",
    "\n",
    "arr = np.array([[1,2,3,4,5], [6,7,8,9,11]])\n",
    "totalsumes(arr)"
   ]
  },
  {
   "cell_type": "code",
   "execution_count": null,
   "metadata": {},
   "outputs": [],
   "source": []
  }
 ],
 "metadata": {
  "kernelspec": {
   "display_name": "Python 3",
   "language": "python",
   "name": "python3"
  },
  "language_info": {
   "codemirror_mode": {
    "name": "ipython",
    "version": 3
   },
   "file_extension": ".py",
   "mimetype": "text/x-python",
   "name": "python",
   "nbconvert_exporter": "python",
   "pygments_lexer": "ipython3",
   "version": "3.8.5"
  }
 },
 "nbformat": 4,
 "nbformat_minor": 4
}
