{
 "cells": [
  {
   "cell_type": "code",
   "execution_count": 14,
   "metadata": {},
   "outputs": [
    {
     "name": "stdout",
     "output_type": "stream",
     "text": [
      "Entra el numero de dimensions1\n",
      "Enter number of elements : 4\n",
      "1\n",
      "2\n",
      "8\n",
      "9\n",
      "[1 2 8 9]\n",
      " Numero maxim:  9\n",
      " Numero minim:  1\n",
      " Mitjana:  5.0\n"
     ]
    }
   ],
   "source": [
    "import numpy as np\n",
    "\n",
    "# creem numero de dimensions\n",
    "num = int(input(\"Entra el numero de dimensions\"))\n",
    "\n",
    "#creem la llista buida\n",
    "lst = []\n",
    " \n",
    "  # demanem el numero d`elements\n",
    "n = int(input(\"Enter number of elements : \"))\n",
    "   \n",
    "   # construim l´array\n",
    "for i in range(0, n):\n",
    "    ele = int(input())\n",
    " \n",
    "    lst.append(ele) # afegint element\n",
    "\n",
    "arr = np.array(lst, ndmin=num)\n",
    "\n",
    "\n",
    "print(arr)\n",
    "\n",
    "if arr.ndim > 1 :\n",
    "    print(\"ERROR array de més una dimensió\")\n",
    "else:\n",
    "    print(\" Numero maxim: \", np.nanmax(arr))\n",
    "    print(\" Numero minim: \", np.nanmin(arr))\n",
    "    print(\" Mitjana: \", np.average(arr))\n",
    "\n",
    "    "
   ]
  },
  {
   "cell_type": "code",
   "execution_count": null,
   "metadata": {},
   "outputs": [],
   "source": []
  },
  {
   "cell_type": "code",
   "execution_count": null,
   "metadata": {},
   "outputs": [],
   "source": []
  },
  {
   "cell_type": "code",
   "execution_count": null,
   "metadata": {},
   "outputs": [],
   "source": []
  }
 ],
 "metadata": {
  "kernelspec": {
   "display_name": "Python 3",
   "language": "python",
   "name": "python3"
  },
  "language_info": {
   "codemirror_mode": {
    "name": "ipython",
    "version": 3
   },
   "file_extension": ".py",
   "mimetype": "text/x-python",
   "name": "python",
   "nbconvert_exporter": "python",
   "pygments_lexer": "ipython3",
   "version": "3.8.5"
  }
 },
 "nbformat": 4,
 "nbformat_minor": 4
}
