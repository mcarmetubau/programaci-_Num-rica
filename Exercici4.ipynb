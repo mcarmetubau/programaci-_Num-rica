{
 "cells": [
  {
   "cell_type": "code",
   "execution_count": 27,
   "metadata": {},
   "outputs": [
    {
     "name": "stdout",
     "output_type": "stream",
     "text": [
      "El coeficient és  0.9976086055845276\n"
     ]
    }
   ],
   "source": [
    "\n",
    "import numpy as np # importando numpy\n",
    "dif_x = []\n",
    "dif_y = []\n",
    "x_edat = np.array([8,9,10,11,12])\n",
    "y_altura =  np.array([120,124,130,134,140])\n",
    "\n",
    "x_mitjana = np.average(x_edat)\n",
    "y_mitjana = np.average(y_altura)\n",
    "\n",
    "\n",
    "\n",
    "for i in range(0, len(x_edat)):\n",
    "    ele_x = x_edat[i] - x_mitjana\n",
    "    dif_x.append(ele_x)\n",
    "  \n",
    "for j in range(0, len(y_altura)):\n",
    "    ele_y = y_altura[j] - y_mitjana\n",
    "    dif_y.append(ele_y)\n",
    "\n",
    "\n",
    "\n",
    "coeficient =  (np.matmul(dif_x,dif_y) / np.sqrt(sum(np.square(dif_x))*sum(np.square(dif_y))))\n",
    "\n",
    "print (\"El coeficient és \", coeficient)\n",
    "\n",
    "#print(np.corrcoef(x_edat, y_altura))\n"
   ]
  },
  {
   "cell_type": "code",
   "execution_count": null,
   "metadata": {},
   "outputs": [],
   "source": []
  },
  {
   "cell_type": "code",
   "execution_count": null,
   "metadata": {},
   "outputs": [],
   "source": []
  }
 ],
 "metadata": {
  "kernelspec": {
   "display_name": "Python 3",
   "language": "python",
   "name": "python3"
  },
  "language_info": {
   "codemirror_mode": {
    "name": "ipython",
    "version": 3
   },
   "file_extension": ".py",
   "mimetype": "text/x-python",
   "name": "python",
   "nbconvert_exporter": "python",
   "pygments_lexer": "ipython3",
   "version": "3.8.5"
  }
 },
 "nbformat": 4,
 "nbformat_minor": 4
}
